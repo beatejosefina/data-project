{
 "cells": [
  {
   "attachments": {},
   "cell_type": "markdown",
   "metadata": {},
   "source": [
    "# Data Analys - Exploring SMHI's datasets\n",
    "Inledande data analys av SMHIs väderdata från väderstation _Stockholm-Observatoriekullen_.\n"
   ]
  },
  {
   "cell_type": "code",
   "execution_count": 64,
   "metadata": {},
   "outputs": [],
   "source": [
    "# Import necessary lib\n",
    "import pandas as pd\n"
   ]
  },
  {
   "cell_type": "code",
   "execution_count": 29,
   "metadata": {},
   "outputs": [
    {
     "name": "stderr",
     "output_type": "stream",
     "text": [
      "/var/folders/w0/pb8x4cmj0lz48d22c6b71j5w0000gn/T/ipykernel_54534/22967594.py:2: DtypeWarning: Columns (5) have mixed types. Specify dtype option on import or set low_memory=False.\n",
      "  temp_h = pd.read_csv('MetroData/smhi_lufttemperatur_h.csv')\n"
     ]
    }
   ],
   "source": [
    "# read CSV files\n",
    "temp_h = pd.read_csv('MetroData/smhi_lufttemperatur_h.csv')\n",
    "temp_12h = pd.read_csv('MetroData/smhi_lufttemperatur_minMax_12h.csv')\n",
    "downfall_mm_h = pd.read_csv('MetroData/smhi_nederbördsmängd_h.csv')\n",
    "downfall_type_12h  = pd.read_csv('MetroData/smhi_nederbördstyp_12h.csv')\n",
    "humidity_h = pd.read_csv('MetroData/smhi_relativ_luftfuktighet_h.csv')"
   ]
  },
  {
   "attachments": {},
   "cell_type": "markdown",
   "metadata": {},
   "source": [
    "## Tenperature Analysis"
   ]
  },
  {
   "attachments": {},
   "cell_type": "markdown",
   "metadata": {},
   "source": [
    "### Temp h\n",
    "Investigate the dataframe's head"
   ]
  },
  {
   "cell_type": "code",
   "execution_count": 30,
   "metadata": {},
   "outputs": [
    {
     "data": {
      "text/html": [
       "<div>\n",
       "<style scoped>\n",
       "    .dataframe tbody tr th:only-of-type {\n",
       "        vertical-align: middle;\n",
       "    }\n",
       "\n",
       "    .dataframe tbody tr th {\n",
       "        vertical-align: top;\n",
       "    }\n",
       "\n",
       "    .dataframe thead th {\n",
       "        text-align: right;\n",
       "    }\n",
       "</style>\n",
       "<table border=\"1\" class=\"dataframe\">\n",
       "  <thead>\n",
       "    <tr style=\"text-align: right;\">\n",
       "      <th></th>\n",
       "      <th>Datum</th>\n",
       "      <th>Tid (UTC)</th>\n",
       "      <th>Lufttemperatur</th>\n",
       "      <th>Kvalitet</th>\n",
       "      <th>Unnamed: 4</th>\n",
       "      <th>Tidsutsnitt:</th>\n",
       "    </tr>\n",
       "  </thead>\n",
       "  <tbody>\n",
       "    <tr>\n",
       "      <th>0</th>\n",
       "      <td>1859-01-01</td>\n",
       "      <td>07:00:00</td>\n",
       "      <td>-1.8</td>\n",
       "      <td>G</td>\n",
       "      <td>NaN</td>\n",
       "      <td>Kvalitetskontrollerade historiska data (utom d...</td>\n",
       "    </tr>\n",
       "    <tr>\n",
       "      <th>1</th>\n",
       "      <td>1859-01-01</td>\n",
       "      <td>13:00:00</td>\n",
       "      <td>0.9</td>\n",
       "      <td>G</td>\n",
       "      <td>NaN</td>\n",
       "      <td>Tidsperiod (fr.o.m.) = 1859-01-01 00:00:00 (UTC)</td>\n",
       "    </tr>\n",
       "    <tr>\n",
       "      <th>2</th>\n",
       "      <td>1859-01-01</td>\n",
       "      <td>20:00:00</td>\n",
       "      <td>1.8</td>\n",
       "      <td>G</td>\n",
       "      <td>NaN</td>\n",
       "      <td>Tidsperiod (t.o.m.) = 2023-01-01 06:00:00 (UTC)</td>\n",
       "    </tr>\n",
       "    <tr>\n",
       "      <th>3</th>\n",
       "      <td>1859-01-02</td>\n",
       "      <td>07:00:00</td>\n",
       "      <td>2.0</td>\n",
       "      <td>G</td>\n",
       "      <td>NaN</td>\n",
       "      <td>Samplingstid = Ej angivet</td>\n",
       "    </tr>\n",
       "    <tr>\n",
       "      <th>4</th>\n",
       "      <td>1859-01-02</td>\n",
       "      <td>13:00:00</td>\n",
       "      <td>1.8</td>\n",
       "      <td>G</td>\n",
       "      <td>NaN</td>\n",
       "      <td>Kvalitetskoderna:</td>\n",
       "    </tr>\n",
       "  </tbody>\n",
       "</table>\n",
       "</div>"
      ],
      "text/plain": [
       "        Datum Tid (UTC)  Lufttemperatur Kvalitet  Unnamed: 4  \\\n",
       "0  1859-01-01  07:00:00            -1.8        G         NaN   \n",
       "1  1859-01-01  13:00:00             0.9        G         NaN   \n",
       "2  1859-01-01  20:00:00             1.8        G         NaN   \n",
       "3  1859-01-02  07:00:00             2.0        G         NaN   \n",
       "4  1859-01-02  13:00:00             1.8        G         NaN   \n",
       "\n",
       "                                        Tidsutsnitt:  \n",
       "0  Kvalitetskontrollerade historiska data (utom d...  \n",
       "1   Tidsperiod (fr.o.m.) = 1859-01-01 00:00:00 (UTC)  \n",
       "2    Tidsperiod (t.o.m.) = 2023-01-01 06:00:00 (UTC)  \n",
       "3                          Samplingstid = Ej angivet  \n",
       "4                                  Kvalitetskoderna:  "
      ]
     },
     "execution_count": 30,
     "metadata": {},
     "output_type": "execute_result"
    }
   ],
   "source": [
    "temp_h.head()"
   ]
  },
  {
   "attachments": {},
   "cell_type": "markdown",
   "metadata": {},
   "source": [
    "Investigate shape (rows, columns)"
   ]
  },
  {
   "cell_type": "code",
   "execution_count": 31,
   "metadata": {},
   "outputs": [
    {
     "data": {
      "text/plain": [
       "(202981, 6)"
      ]
     },
     "execution_count": 31,
     "metadata": {},
     "output_type": "execute_result"
    }
   ],
   "source": [
    "temp_h.shape"
   ]
  },
  {
   "attachments": {},
   "cell_type": "markdown",
   "metadata": {},
   "source": [
    "Check data types\n",
    "(Objects usually = strings)"
   ]
  },
  {
   "cell_type": "code",
   "execution_count": 32,
   "metadata": {},
   "outputs": [
    {
     "data": {
      "text/plain": [
       "Datum              object\n",
       "Tid (UTC)          object\n",
       "Lufttemperatur    float64\n",
       "Kvalitet           object\n",
       "Unnamed: 4        float64\n",
       "Tidsutsnitt:       object\n",
       "dtype: object"
      ]
     },
     "execution_count": 32,
     "metadata": {},
     "output_type": "execute_result"
    }
   ],
   "source": [
    "temp_h.dtypes"
   ]
  },
  {
   "attachments": {},
   "cell_type": "markdown",
   "metadata": {},
   "source": [
    "Check out Kvalitet"
   ]
  },
  {
   "cell_type": "code",
   "execution_count": 33,
   "metadata": {},
   "outputs": [
    {
     "data": {
      "text/plain": [
       "G    202533\n",
       "Y       448\n",
       "Name: Kvalitet, dtype: int64"
      ]
     },
     "execution_count": 33,
     "metadata": {},
     "output_type": "execute_result"
    }
   ],
   "source": [
    "temp_h.Kvalitet.value_counts()"
   ]
  },
  {
   "attachments": {},
   "cell_type": "markdown",
   "metadata": {},
   "source": [
    "### Temp 12h\n",
    "Investigate the dataframe's head"
   ]
  },
  {
   "cell_type": "code",
   "execution_count": 34,
   "metadata": {},
   "outputs": [
    {
     "data": {
      "text/html": [
       "<div>\n",
       "<style scoped>\n",
       "    .dataframe tbody tr th:only-of-type {\n",
       "        vertical-align: middle;\n",
       "    }\n",
       "\n",
       "    .dataframe tbody tr th {\n",
       "        vertical-align: top;\n",
       "    }\n",
       "\n",
       "    .dataframe thead th {\n",
       "        text-align: right;\n",
       "    }\n",
       "</style>\n",
       "<table border=\"1\" class=\"dataframe\">\n",
       "  <thead>\n",
       "    <tr style=\"text-align: right;\">\n",
       "      <th></th>\n",
       "      <th>Datum</th>\n",
       "      <th>Tid (UTC)</th>\n",
       "      <th>Lufttemperatur</th>\n",
       "      <th>Kvalitet</th>\n",
       "      <th>Lufttemperatur.1</th>\n",
       "      <th>Kvalitet.1</th>\n",
       "      <th>Unnamed: 6</th>\n",
       "      <th>Tidsutsnitt:</th>\n",
       "    </tr>\n",
       "  </thead>\n",
       "  <tbody>\n",
       "    <tr>\n",
       "      <th>0</th>\n",
       "      <td>1961-01-01</td>\n",
       "      <td>18:00:00</td>\n",
       "      <td>-0.2</td>\n",
       "      <td>G</td>\n",
       "      <td>1.0</td>\n",
       "      <td>G</td>\n",
       "      <td>NaN</td>\n",
       "      <td>Kvalitetskontrollerade historiska data (utom d...</td>\n",
       "    </tr>\n",
       "    <tr>\n",
       "      <th>1</th>\n",
       "      <td>1961-01-02</td>\n",
       "      <td>18:00:00</td>\n",
       "      <td>-0.7</td>\n",
       "      <td>G</td>\n",
       "      <td>1.9</td>\n",
       "      <td>G</td>\n",
       "      <td>NaN</td>\n",
       "      <td>Tidsperiod (fr.o.m.) = 1961-01-01 00:00:00 (UTC)</td>\n",
       "    </tr>\n",
       "    <tr>\n",
       "      <th>2</th>\n",
       "      <td>1961-01-03</td>\n",
       "      <td>18:00:00</td>\n",
       "      <td>0.7</td>\n",
       "      <td>G</td>\n",
       "      <td>2.5</td>\n",
       "      <td>G</td>\n",
       "      <td>NaN</td>\n",
       "      <td>Tidsperiod (t.o.m.) = 2023-01-01 06:00:00 (UTC)</td>\n",
       "    </tr>\n",
       "    <tr>\n",
       "      <th>3</th>\n",
       "      <td>1961-01-04</td>\n",
       "      <td>18:00:00</td>\n",
       "      <td>0.4</td>\n",
       "      <td>G</td>\n",
       "      <td>2.8</td>\n",
       "      <td>G</td>\n",
       "      <td>NaN</td>\n",
       "      <td>Samplingstid = 12 timmar</td>\n",
       "    </tr>\n",
       "    <tr>\n",
       "      <th>4</th>\n",
       "      <td>1961-01-05</td>\n",
       "      <td>18:00:00</td>\n",
       "      <td>-0.3</td>\n",
       "      <td>G</td>\n",
       "      <td>3.0</td>\n",
       "      <td>G</td>\n",
       "      <td>NaN</td>\n",
       "      <td>Kvalitetskoderna:</td>\n",
       "    </tr>\n",
       "  </tbody>\n",
       "</table>\n",
       "</div>"
      ],
      "text/plain": [
       "        Datum Tid (UTC)  Lufttemperatur Kvalitet  Lufttemperatur.1 Kvalitet.1  \\\n",
       "0  1961-01-01  18:00:00            -0.2        G               1.0          G   \n",
       "1  1961-01-02  18:00:00            -0.7        G               1.9          G   \n",
       "2  1961-01-03  18:00:00             0.7        G               2.5          G   \n",
       "3  1961-01-04  18:00:00             0.4        G               2.8          G   \n",
       "4  1961-01-05  18:00:00            -0.3        G               3.0          G   \n",
       "\n",
       "   Unnamed: 6                                       Tidsutsnitt:  \n",
       "0         NaN  Kvalitetskontrollerade historiska data (utom d...  \n",
       "1         NaN   Tidsperiod (fr.o.m.) = 1961-01-01 00:00:00 (UTC)  \n",
       "2         NaN    Tidsperiod (t.o.m.) = 2023-01-01 06:00:00 (UTC)  \n",
       "3         NaN                           Samplingstid = 12 timmar  \n",
       "4         NaN                                  Kvalitetskoderna:  "
      ]
     },
     "execution_count": 34,
     "metadata": {},
     "output_type": "execute_result"
    }
   ],
   "source": [
    "temp_12h.head()"
   ]
  },
  {
   "cell_type": "code",
   "execution_count": 66,
   "metadata": {},
   "outputs": [
    {
     "name": "stdout",
     "output_type": "stream",
     "text": [
      "Newst value: 2023-01-01, oldest value: 1961-01-01\n"
     ]
    }
   ],
   "source": [
    "# Nyaste datapunkten\n",
    "Newst = temp_12h.Datum.max()\n",
    "\n",
    "# äldsta datapunkten\n",
    "Oldest = temp_12h.Datum.min()\n",
    "\n",
    "print(f'Newst value: {Newst}, oldest value: {Oldest}')\n"
   ]
  },
  {
   "attachments": {},
   "cell_type": "markdown",
   "metadata": {},
   "source": [
    "## Downfall Analysis"
   ]
  },
  {
   "attachments": {},
   "cell_type": "markdown",
   "metadata": {},
   "source": [
    "### Downfall mm/h\n",
    "Investigate the dataframe's head"
   ]
  },
  {
   "cell_type": "code",
   "execution_count": 35,
   "metadata": {},
   "outputs": [
    {
     "data": {
      "text/html": [
       "<div>\n",
       "<style scoped>\n",
       "    .dataframe tbody tr th:only-of-type {\n",
       "        vertical-align: middle;\n",
       "    }\n",
       "\n",
       "    .dataframe tbody tr th {\n",
       "        vertical-align: top;\n",
       "    }\n",
       "\n",
       "    .dataframe thead th {\n",
       "        text-align: right;\n",
       "    }\n",
       "</style>\n",
       "<table border=\"1\" class=\"dataframe\">\n",
       "  <thead>\n",
       "    <tr style=\"text-align: right;\">\n",
       "      <th></th>\n",
       "      <th>Datum</th>\n",
       "      <th>Tid (UTC)</th>\n",
       "      <th>Nederbördsmängd</th>\n",
       "      <th>Kvalitet</th>\n",
       "      <th>Unnamed: 4</th>\n",
       "      <th>Tidsutsnitt:</th>\n",
       "    </tr>\n",
       "  </thead>\n",
       "  <tbody>\n",
       "    <tr>\n",
       "      <th>0</th>\n",
       "      <td>NaN</td>\n",
       "      <td>NaN</td>\n",
       "      <td>NaN</td>\n",
       "      <td>NaN</td>\n",
       "      <td>NaN</td>\n",
       "      <td>Kvalitetskontrollerade historiska data (utom d...</td>\n",
       "    </tr>\n",
       "    <tr>\n",
       "      <th>1</th>\n",
       "      <td>NaN</td>\n",
       "      <td>NaN</td>\n",
       "      <td>NaN</td>\n",
       "      <td>NaN</td>\n",
       "      <td>NaN</td>\n",
       "      <td>Tidsperiod (fr.o.m.) = 2014-04-01 00:00:00 (UTC)</td>\n",
       "    </tr>\n",
       "    <tr>\n",
       "      <th>2</th>\n",
       "      <td>NaN</td>\n",
       "      <td>NaN</td>\n",
       "      <td>NaN</td>\n",
       "      <td>NaN</td>\n",
       "      <td>NaN</td>\n",
       "      <td>Tidsperiod (t.o.m.) = 2014-04-30 23:59:59 (UTC)</td>\n",
       "    </tr>\n",
       "    <tr>\n",
       "      <th>3</th>\n",
       "      <td>NaN</td>\n",
       "      <td>NaN</td>\n",
       "      <td>NaN</td>\n",
       "      <td>NaN</td>\n",
       "      <td>NaN</td>\n",
       "      <td>Samplingstid = 1 timme</td>\n",
       "    </tr>\n",
       "    <tr>\n",
       "      <th>4</th>\n",
       "      <td>NaN</td>\n",
       "      <td>NaN</td>\n",
       "      <td>NaN</td>\n",
       "      <td>NaN</td>\n",
       "      <td>NaN</td>\n",
       "      <td>Kvalitetskoderna:</td>\n",
       "    </tr>\n",
       "  </tbody>\n",
       "</table>\n",
       "</div>"
      ],
      "text/plain": [
       "   Datum  Tid (UTC)  Nederbördsmängd  Kvalitet  Unnamed: 4  \\\n",
       "0    NaN        NaN              NaN       NaN         NaN   \n",
       "1    NaN        NaN              NaN       NaN         NaN   \n",
       "2    NaN        NaN              NaN       NaN         NaN   \n",
       "3    NaN        NaN              NaN       NaN         NaN   \n",
       "4    NaN        NaN              NaN       NaN         NaN   \n",
       "\n",
       "                                        Tidsutsnitt:  \n",
       "0  Kvalitetskontrollerade historiska data (utom d...  \n",
       "1   Tidsperiod (fr.o.m.) = 2014-04-01 00:00:00 (UTC)  \n",
       "2    Tidsperiod (t.o.m.) = 2014-04-30 23:59:59 (UTC)  \n",
       "3                             Samplingstid = 1 timme  \n",
       "4                                  Kvalitetskoderna:  "
      ]
     },
     "execution_count": 35,
     "metadata": {},
     "output_type": "execute_result"
    }
   ],
   "source": [
    "downfall_mm_h.head()"
   ]
  },
  {
   "cell_type": "code",
   "execution_count": 36,
   "metadata": {},
   "outputs": [
    {
     "data": {
      "text/plain": [
       "Datum              float64\n",
       "Tid (UTC)          float64\n",
       "Nederbördsmängd    float64\n",
       "Kvalitet           float64\n",
       "Unnamed: 4         float64\n",
       "Tidsutsnitt:        object\n",
       "dtype: object"
      ]
     },
     "execution_count": 36,
     "metadata": {},
     "output_type": "execute_result"
    }
   ],
   "source": [
    "downfall_mm_h.dtypes"
   ]
  },
  {
   "cell_type": "code",
   "execution_count": 37,
   "metadata": {},
   "outputs": [
    {
     "data": {
      "text/plain": [
       "(13, 6)"
      ]
     },
     "execution_count": 37,
     "metadata": {},
     "output_type": "execute_result"
    }
   ],
   "source": [
    "downfall_mm_h.shape"
   ]
  },
  {
   "cell_type": "code",
   "execution_count": 38,
   "metadata": {},
   "outputs": [
    {
     "data": {
      "text/plain": [
       "Series([], Name: Nederbördsmängd, dtype: int64)"
      ]
     },
     "execution_count": 38,
     "metadata": {},
     "output_type": "execute_result"
    }
   ],
   "source": [
    "downfall_mm_h.Nederbördsmängd.value_counts()"
   ]
  },
  {
   "attachments": {},
   "cell_type": "markdown",
   "metadata": {},
   "source": [
    "Conclusion --> Empty dataset"
   ]
  },
  {
   "attachments": {},
   "cell_type": "markdown",
   "metadata": {},
   "source": [
    "### Downfall Type 12h\n",
    "Investigate the dataframe's head"
   ]
  },
  {
   "cell_type": "code",
   "execution_count": 39,
   "metadata": {},
   "outputs": [
    {
     "data": {
      "text/html": [
       "<div>\n",
       "<style scoped>\n",
       "    .dataframe tbody tr th:only-of-type {\n",
       "        vertical-align: middle;\n",
       "    }\n",
       "\n",
       "    .dataframe tbody tr th {\n",
       "        vertical-align: top;\n",
       "    }\n",
       "\n",
       "    .dataframe thead th {\n",
       "        text-align: right;\n",
       "    }\n",
       "</style>\n",
       "<table border=\"1\" class=\"dataframe\">\n",
       "  <thead>\n",
       "    <tr style=\"text-align: right;\">\n",
       "      <th></th>\n",
       "      <th>Datum</th>\n",
       "      <th>Tid (UTC)</th>\n",
       "      <th>Nederbörd</th>\n",
       "      <th>Kvalitet</th>\n",
       "      <th>Unnamed: 4</th>\n",
       "      <th>Tidsutsnitt:</th>\n",
       "    </tr>\n",
       "  </thead>\n",
       "  <tbody>\n",
       "    <tr>\n",
       "      <th>0</th>\n",
       "      <td>2019-10-07</td>\n",
       "      <td>18:00:00</td>\n",
       "      <td>regn</td>\n",
       "      <td>Y</td>\n",
       "      <td>NaN</td>\n",
       "      <td>Kvalitetskontrollerade historiska data (utom d...</td>\n",
       "    </tr>\n",
       "    <tr>\n",
       "      <th>1</th>\n",
       "      <td>2019-10-12</td>\n",
       "      <td>06:00:00</td>\n",
       "      <td>regn</td>\n",
       "      <td>Y</td>\n",
       "      <td>NaN</td>\n",
       "      <td>Tidsperiod (fr.o.m.) = 2019-10-01 00:00:00 (UTC)</td>\n",
       "    </tr>\n",
       "    <tr>\n",
       "      <th>2</th>\n",
       "      <td>2019-10-14</td>\n",
       "      <td>06:00:00</td>\n",
       "      <td>regn</td>\n",
       "      <td>Y</td>\n",
       "      <td>NaN</td>\n",
       "      <td>Tidsperiod (t.o.m.) = 2023-01-01 06:00:00 (UTC)</td>\n",
       "    </tr>\n",
       "    <tr>\n",
       "      <th>3</th>\n",
       "      <td>2019-10-14</td>\n",
       "      <td>18:00:00</td>\n",
       "      <td>regn</td>\n",
       "      <td>Y</td>\n",
       "      <td>NaN</td>\n",
       "      <td>Samplingstid = 12 timmar</td>\n",
       "    </tr>\n",
       "    <tr>\n",
       "      <th>4</th>\n",
       "      <td>2019-10-17</td>\n",
       "      <td>06:00:00</td>\n",
       "      <td>regn</td>\n",
       "      <td>Y</td>\n",
       "      <td>NaN</td>\n",
       "      <td>Kvalitetskoderna:</td>\n",
       "    </tr>\n",
       "  </tbody>\n",
       "</table>\n",
       "</div>"
      ],
      "text/plain": [
       "        Datum Tid (UTC) Nederbörd Kvalitet  Unnamed: 4  \\\n",
       "0  2019-10-07  18:00:00      regn        Y         NaN   \n",
       "1  2019-10-12  06:00:00      regn        Y         NaN   \n",
       "2  2019-10-14  06:00:00      regn        Y         NaN   \n",
       "3  2019-10-14  18:00:00      regn        Y         NaN   \n",
       "4  2019-10-17  06:00:00      regn        Y         NaN   \n",
       "\n",
       "                                        Tidsutsnitt:  \n",
       "0  Kvalitetskontrollerade historiska data (utom d...  \n",
       "1   Tidsperiod (fr.o.m.) = 2019-10-01 00:00:00 (UTC)  \n",
       "2    Tidsperiod (t.o.m.) = 2023-01-01 06:00:00 (UTC)  \n",
       "3                           Samplingstid = 12 timmar  \n",
       "4                                  Kvalitetskoderna:  "
      ]
     },
     "execution_count": 39,
     "metadata": {},
     "output_type": "execute_result"
    }
   ],
   "source": [
    "downfall_type_12h.head()"
   ]
  },
  {
   "cell_type": "code",
   "execution_count": 40,
   "metadata": {},
   "outputs": [
    {
     "data": {
      "text/plain": [
       "Datum            object\n",
       "Tid (UTC)        object\n",
       "Nederbörd        object\n",
       "Kvalitet         object\n",
       "Unnamed: 4      float64\n",
       "Tidsutsnitt:     object\n",
       "dtype: object"
      ]
     },
     "execution_count": 40,
     "metadata": {},
     "output_type": "execute_result"
    }
   ],
   "source": [
    "downfall_type_12h.dtypes"
   ]
  },
  {
   "cell_type": "code",
   "execution_count": 41,
   "metadata": {},
   "outputs": [
    {
     "data": {
      "text/plain": [
       "regn                       469\n",
       "duggregn                    93\n",
       "snowfall                    77\n",
       "regnskurar                  46\n",
       "snöblandat regn             31\n",
       "snöbyar                     11\n",
       "snöhagel                     3\n",
       "byar av snöblandat regn      2\n",
       "småhagel                     2\n",
       "kornsnö                      1\n",
       "Name: Nederbörd, dtype: int64"
      ]
     },
     "execution_count": 41,
     "metadata": {},
     "output_type": "execute_result"
    }
   ],
   "source": [
    "downfall_type_12h.Nederbörd.value_counts()"
   ]
  },
  {
   "attachments": {},
   "cell_type": "markdown",
   "metadata": {},
   "source": [
    "--> Övervägande lablede data för olika typer av regn \n"
   ]
  },
  {
   "attachments": {},
   "cell_type": "markdown",
   "metadata": {},
   "source": [
    "Inventory of data set size"
   ]
  },
  {
   "cell_type": "code",
   "execution_count": 67,
   "metadata": {},
   "outputs": [
    {
     "data": {
      "text/plain": [
       "(735, 6)"
      ]
     },
     "execution_count": 67,
     "metadata": {},
     "output_type": "execute_result"
    }
   ],
   "source": [
    "downfall_type_12h.shape"
   ]
  },
  {
   "cell_type": "code",
   "execution_count": 65,
   "metadata": {},
   "outputs": [
    {
     "name": "stdout",
     "output_type": "stream",
     "text": [
      "Newst value: 2022-12-31, oldest value: 2019-10-07\n"
     ]
    }
   ],
   "source": [
    "# Nyaste datapunkten\n",
    "Newst = downfall_type_12h.Datum.max()\n",
    "\n",
    "# äldsta datapunkten\n",
    "Oldest = downfall_type_12h.Datum.min()\n",
    "\n",
    "print(f'Newst value: {Newst}, oldest value: {Oldest}')\n"
   ]
  },
  {
   "attachments": {},
   "cell_type": "markdown",
   "metadata": {},
   "source": [
    "--> Relativt litet dataset jämfört med övriga"
   ]
  },
  {
   "attachments": {},
   "cell_type": "markdown",
   "metadata": {},
   "source": [
    "## Humidity Analysis"
   ]
  },
  {
   "attachments": {},
   "cell_type": "markdown",
   "metadata": {},
   "source": [
    "### Humidity h\n",
    "Investigate the dataframe's head"
   ]
  }
 ],
 "metadata": {
  "kernelspec": {
   "display_name": "Python 3",
   "language": "python",
   "name": "python3"
  },
  "language_info": {
   "codemirror_mode": {
    "name": "ipython",
    "version": 3
   },
   "file_extension": ".py",
   "mimetype": "text/x-python",
   "name": "python",
   "nbconvert_exporter": "python",
   "pygments_lexer": "ipython3",
   "version": "3.10.4"
  },
  "orig_nbformat": 4
 },
 "nbformat": 4,
 "nbformat_minor": 2
}
