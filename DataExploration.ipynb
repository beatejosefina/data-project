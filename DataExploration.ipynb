{
 "cells": [
  {
   "attachments": {},
   "cell_type": "markdown",
   "metadata": {},
   "source": [
    "# Data Analys - Exploring SMHI's datasets\n",
    "Inledande data analys av SMHIs väderdata från väderstation _Stockholm-Observatoriekullen_.\n"
   ]
  },
  {
   "cell_type": "code",
   "execution_count": 130,
   "metadata": {},
   "outputs": [],
   "source": [
    "# Import necessary lib\n",
    "import pandas as pd\n"
   ]
  },
  {
   "cell_type": "code",
   "execution_count": 131,
   "metadata": {},
   "outputs": [
    {
     "name": "stderr",
     "output_type": "stream",
     "text": [
      "/var/folders/w0/pb8x4cmj0lz48d22c6b71j5w0000gn/T/ipykernel_54534/22967594.py:2: DtypeWarning: Columns (5) have mixed types. Specify dtype option on import or set low_memory=False.\n",
      "  temp_h = pd.read_csv('MetroData/smhi_lufttemperatur_h.csv')\n"
     ]
    }
   ],
   "source": [
    "# read CSV files\n",
    "temp_h = pd.read_csv('MetroData/smhi_lufttemperatur_h.csv')\n",
    "temp_12h = pd.read_csv('MetroData/smhi_lufttemperatur_minMax_12h.csv')\n",
    "downfall_mm_h = pd.read_csv('MetroData/smhi_nederbördsmängd_h.csv')\n",
    "downfall_type_12h  = pd.read_csv('MetroData/smhi_nederbördstyp_12h.csv')\n",
    "humidity_h = pd.read_csv('MetroData/smhi_relativ_luftfuktighet_h.csv')"
   ]
  },
  {
   "attachments": {},
   "cell_type": "markdown",
   "metadata": {},
   "source": [
    "## Temperature Analysis"
   ]
  },
  {
   "attachments": {},
   "cell_type": "markdown",
   "metadata": {},
   "source": [
    "### Temp h\n",
    "Investigate the dataframe's head"
   ]
  },
  {
   "cell_type": "code",
   "execution_count": 132,
   "metadata": {},
   "outputs": [
    {
     "data": {
      "text/html": [
       "<div>\n",
       "<style scoped>\n",
       "    .dataframe tbody tr th:only-of-type {\n",
       "        vertical-align: middle;\n",
       "    }\n",
       "\n",
       "    .dataframe tbody tr th {\n",
       "        vertical-align: top;\n",
       "    }\n",
       "\n",
       "    .dataframe thead th {\n",
       "        text-align: right;\n",
       "    }\n",
       "</style>\n",
       "<table border=\"1\" class=\"dataframe\">\n",
       "  <thead>\n",
       "    <tr style=\"text-align: right;\">\n",
       "      <th></th>\n",
       "      <th>Datum</th>\n",
       "      <th>Tid (UTC)</th>\n",
       "      <th>Lufttemperatur</th>\n",
       "      <th>Kvalitet</th>\n",
       "      <th>Unnamed: 4</th>\n",
       "      <th>Tidsutsnitt:</th>\n",
       "    </tr>\n",
       "  </thead>\n",
       "  <tbody>\n",
       "    <tr>\n",
       "      <th>0</th>\n",
       "      <td>1859-01-01</td>\n",
       "      <td>07:00:00</td>\n",
       "      <td>-1.8</td>\n",
       "      <td>G</td>\n",
       "      <td>NaN</td>\n",
       "      <td>Kvalitetskontrollerade historiska data (utom d...</td>\n",
       "    </tr>\n",
       "    <tr>\n",
       "      <th>1</th>\n",
       "      <td>1859-01-01</td>\n",
       "      <td>13:00:00</td>\n",
       "      <td>0.9</td>\n",
       "      <td>G</td>\n",
       "      <td>NaN</td>\n",
       "      <td>Tidsperiod (fr.o.m.) = 1859-01-01 00:00:00 (UTC)</td>\n",
       "    </tr>\n",
       "    <tr>\n",
       "      <th>2</th>\n",
       "      <td>1859-01-01</td>\n",
       "      <td>20:00:00</td>\n",
       "      <td>1.8</td>\n",
       "      <td>G</td>\n",
       "      <td>NaN</td>\n",
       "      <td>Tidsperiod (t.o.m.) = 2023-01-01 06:00:00 (UTC)</td>\n",
       "    </tr>\n",
       "    <tr>\n",
       "      <th>3</th>\n",
       "      <td>1859-01-02</td>\n",
       "      <td>07:00:00</td>\n",
       "      <td>2.0</td>\n",
       "      <td>G</td>\n",
       "      <td>NaN</td>\n",
       "      <td>Samplingstid = Ej angivet</td>\n",
       "    </tr>\n",
       "    <tr>\n",
       "      <th>4</th>\n",
       "      <td>1859-01-02</td>\n",
       "      <td>13:00:00</td>\n",
       "      <td>1.8</td>\n",
       "      <td>G</td>\n",
       "      <td>NaN</td>\n",
       "      <td>Kvalitetskoderna:</td>\n",
       "    </tr>\n",
       "  </tbody>\n",
       "</table>\n",
       "</div>"
      ],
      "text/plain": [
       "        Datum Tid (UTC)  Lufttemperatur Kvalitet  Unnamed: 4  \\\n",
       "0  1859-01-01  07:00:00            -1.8        G         NaN   \n",
       "1  1859-01-01  13:00:00             0.9        G         NaN   \n",
       "2  1859-01-01  20:00:00             1.8        G         NaN   \n",
       "3  1859-01-02  07:00:00             2.0        G         NaN   \n",
       "4  1859-01-02  13:00:00             1.8        G         NaN   \n",
       "\n",
       "                                        Tidsutsnitt:  \n",
       "0  Kvalitetskontrollerade historiska data (utom d...  \n",
       "1   Tidsperiod (fr.o.m.) = 1859-01-01 00:00:00 (UTC)  \n",
       "2    Tidsperiod (t.o.m.) = 2023-01-01 06:00:00 (UTC)  \n",
       "3                          Samplingstid = Ej angivet  \n",
       "4                                  Kvalitetskoderna:  "
      ]
     },
     "execution_count": 132,
     "metadata": {},
     "output_type": "execute_result"
    }
   ],
   "source": [
    "temp_h.head()"
   ]
  },
  {
   "attachments": {},
   "cell_type": "markdown",
   "metadata": {},
   "source": [
    "--> Tidsutsnitt - field not table data "
   ]
  },
  {
   "attachments": {},
   "cell_type": "markdown",
   "metadata": {},
   "source": [
    "Investigate shape (rows, columns)"
   ]
  },
  {
   "cell_type": "code",
   "execution_count": 133,
   "metadata": {},
   "outputs": [
    {
     "data": {
      "text/plain": [
       "(202981, 6)"
      ]
     },
     "execution_count": 133,
     "metadata": {},
     "output_type": "execute_result"
    }
   ],
   "source": [
    "temp_h.shape"
   ]
  },
  {
   "attachments": {},
   "cell_type": "markdown",
   "metadata": {},
   "source": [
    "Check data types\n",
    "(Objects usually = strings)"
   ]
  },
  {
   "cell_type": "code",
   "execution_count": 134,
   "metadata": {},
   "outputs": [
    {
     "data": {
      "text/plain": [
       "Datum              object\n",
       "Tid (UTC)          object\n",
       "Lufttemperatur    float64\n",
       "Kvalitet           object\n",
       "Unnamed: 4        float64\n",
       "Tidsutsnitt:       object\n",
       "dtype: object"
      ]
     },
     "execution_count": 134,
     "metadata": {},
     "output_type": "execute_result"
    }
   ],
   "source": [
    "temp_h.dtypes"
   ]
  },
  {
   "attachments": {},
   "cell_type": "markdown",
   "metadata": {},
   "source": [
    "Check out Kvalitet"
   ]
  },
  {
   "cell_type": "code",
   "execution_count": 135,
   "metadata": {},
   "outputs": [
    {
     "data": {
      "text/plain": [
       "G    202533\n",
       "Y       448\n",
       "Name: Kvalitet, dtype: int64"
      ]
     },
     "execution_count": 135,
     "metadata": {},
     "output_type": "execute_result"
    }
   ],
   "source": [
    "temp_h.Kvalitet.value_counts()"
   ]
  },
  {
   "attachments": {},
   "cell_type": "markdown",
   "metadata": {},
   "source": [
    "Från SMHIs dokumentation: \n",
    "Grön (G) = Kontrollerade och godkända värden.\n",
    "Gul (Y) = Misstänkta eller aggregerade värden. Grovt kontrollerade arkivdata och okontrollerade realtidsdata (senaste 2 tim).\n",
    "\n",
    "--> Övervägande god kavlitet. Då SMHI är en svensk expertmyndighet antas deras självupskattning vara trovärdig. "
   ]
  },
  {
   "attachments": {},
   "cell_type": "markdown",
   "metadata": {},
   "source": [
    "### Temp 12h\n",
    "Investigate the dataframe's head"
   ]
  },
  {
   "cell_type": "code",
   "execution_count": 136,
   "metadata": {},
   "outputs": [
    {
     "data": {
      "text/html": [
       "<div>\n",
       "<style scoped>\n",
       "    .dataframe tbody tr th:only-of-type {\n",
       "        vertical-align: middle;\n",
       "    }\n",
       "\n",
       "    .dataframe tbody tr th {\n",
       "        vertical-align: top;\n",
       "    }\n",
       "\n",
       "    .dataframe thead th {\n",
       "        text-align: right;\n",
       "    }\n",
       "</style>\n",
       "<table border=\"1\" class=\"dataframe\">\n",
       "  <thead>\n",
       "    <tr style=\"text-align: right;\">\n",
       "      <th></th>\n",
       "      <th>Datum</th>\n",
       "      <th>Tid (UTC)</th>\n",
       "      <th>Lufttemperatur</th>\n",
       "      <th>Kvalitet</th>\n",
       "      <th>Lufttemperatur.1</th>\n",
       "      <th>Kvalitet.1</th>\n",
       "      <th>Unnamed: 6</th>\n",
       "      <th>Tidsutsnitt:</th>\n",
       "    </tr>\n",
       "  </thead>\n",
       "  <tbody>\n",
       "    <tr>\n",
       "      <th>0</th>\n",
       "      <td>1961-01-01</td>\n",
       "      <td>18:00:00</td>\n",
       "      <td>-0.2</td>\n",
       "      <td>G</td>\n",
       "      <td>1.0</td>\n",
       "      <td>G</td>\n",
       "      <td>NaN</td>\n",
       "      <td>Kvalitetskontrollerade historiska data (utom d...</td>\n",
       "    </tr>\n",
       "    <tr>\n",
       "      <th>1</th>\n",
       "      <td>1961-01-02</td>\n",
       "      <td>18:00:00</td>\n",
       "      <td>-0.7</td>\n",
       "      <td>G</td>\n",
       "      <td>1.9</td>\n",
       "      <td>G</td>\n",
       "      <td>NaN</td>\n",
       "      <td>Tidsperiod (fr.o.m.) = 1961-01-01 00:00:00 (UTC)</td>\n",
       "    </tr>\n",
       "    <tr>\n",
       "      <th>2</th>\n",
       "      <td>1961-01-03</td>\n",
       "      <td>18:00:00</td>\n",
       "      <td>0.7</td>\n",
       "      <td>G</td>\n",
       "      <td>2.5</td>\n",
       "      <td>G</td>\n",
       "      <td>NaN</td>\n",
       "      <td>Tidsperiod (t.o.m.) = 2023-01-01 06:00:00 (UTC)</td>\n",
       "    </tr>\n",
       "    <tr>\n",
       "      <th>3</th>\n",
       "      <td>1961-01-04</td>\n",
       "      <td>18:00:00</td>\n",
       "      <td>0.4</td>\n",
       "      <td>G</td>\n",
       "      <td>2.8</td>\n",
       "      <td>G</td>\n",
       "      <td>NaN</td>\n",
       "      <td>Samplingstid = 12 timmar</td>\n",
       "    </tr>\n",
       "    <tr>\n",
       "      <th>4</th>\n",
       "      <td>1961-01-05</td>\n",
       "      <td>18:00:00</td>\n",
       "      <td>-0.3</td>\n",
       "      <td>G</td>\n",
       "      <td>3.0</td>\n",
       "      <td>G</td>\n",
       "      <td>NaN</td>\n",
       "      <td>Kvalitetskoderna:</td>\n",
       "    </tr>\n",
       "  </tbody>\n",
       "</table>\n",
       "</div>"
      ],
      "text/plain": [
       "        Datum Tid (UTC)  Lufttemperatur Kvalitet  Lufttemperatur.1 Kvalitet.1  \\\n",
       "0  1961-01-01  18:00:00            -0.2        G               1.0          G   \n",
       "1  1961-01-02  18:00:00            -0.7        G               1.9          G   \n",
       "2  1961-01-03  18:00:00             0.7        G               2.5          G   \n",
       "3  1961-01-04  18:00:00             0.4        G               2.8          G   \n",
       "4  1961-01-05  18:00:00            -0.3        G               3.0          G   \n",
       "\n",
       "   Unnamed: 6                                       Tidsutsnitt:  \n",
       "0         NaN  Kvalitetskontrollerade historiska data (utom d...  \n",
       "1         NaN   Tidsperiod (fr.o.m.) = 1961-01-01 00:00:00 (UTC)  \n",
       "2         NaN    Tidsperiod (t.o.m.) = 2023-01-01 06:00:00 (UTC)  \n",
       "3         NaN                           Samplingstid = 12 timmar  \n",
       "4         NaN                                  Kvalitetskoderna:  "
      ]
     },
     "execution_count": 136,
     "metadata": {},
     "output_type": "execute_result"
    }
   ],
   "source": [
    "temp_12h.head()"
   ]
  },
  {
   "cell_type": "code",
   "execution_count": 137,
   "metadata": {},
   "outputs": [
    {
     "name": "stdout",
     "output_type": "stream",
     "text": [
      "Newst value: 2023-01-01, oldest value: 1961-01-01\n"
     ]
    }
   ],
   "source": [
    "# Nyaste datapunkten\n",
    "Newst = temp_12h.Datum.max()\n",
    "\n",
    "# äldsta datapunkten\n",
    "Oldest = temp_12h.Datum.min()\n",
    "\n",
    "print(f'Newst value: {Newst}, oldest value: {Oldest}')\n"
   ]
  },
  {
   "cell_type": "code",
   "execution_count": 138,
   "metadata": {},
   "outputs": [
    {
     "data": {
      "text/plain": [
       "(43883, 8)"
      ]
     },
     "execution_count": 138,
     "metadata": {},
     "output_type": "execute_result"
    }
   ],
   "source": [
    "temp_12h.shape"
   ]
  },
  {
   "cell_type": "code",
   "execution_count": 164,
   "metadata": {},
   "outputs": [
    {
     "data": {
      "text/plain": [
       "G    43557\n",
       "Y      252\n",
       "Name: Kvalitet, dtype: int64"
      ]
     },
     "execution_count": 164,
     "metadata": {},
     "output_type": "execute_result"
    }
   ],
   "source": [
    "temp_12h.Kvalitet.value_counts()"
   ]
  },
  {
   "attachments": {},
   "cell_type": "markdown",
   "metadata": {},
   "source": [
    "## Downfall Analysis"
   ]
  },
  {
   "attachments": {},
   "cell_type": "markdown",
   "metadata": {},
   "source": [
    "### Downfall mm/h\n",
    "Investigate the dataframe's head"
   ]
  },
  {
   "cell_type": "code",
   "execution_count": 139,
   "metadata": {},
   "outputs": [
    {
     "data": {
      "text/html": [
       "<div>\n",
       "<style scoped>\n",
       "    .dataframe tbody tr th:only-of-type {\n",
       "        vertical-align: middle;\n",
       "    }\n",
       "\n",
       "    .dataframe tbody tr th {\n",
       "        vertical-align: top;\n",
       "    }\n",
       "\n",
       "    .dataframe thead th {\n",
       "        text-align: right;\n",
       "    }\n",
       "</style>\n",
       "<table border=\"1\" class=\"dataframe\">\n",
       "  <thead>\n",
       "    <tr style=\"text-align: right;\">\n",
       "      <th></th>\n",
       "      <th>Datum</th>\n",
       "      <th>Tid (UTC)</th>\n",
       "      <th>Nederbördsmängd</th>\n",
       "      <th>Kvalitet</th>\n",
       "      <th>Unnamed: 4</th>\n",
       "      <th>Tidsutsnitt:</th>\n",
       "    </tr>\n",
       "  </thead>\n",
       "  <tbody>\n",
       "    <tr>\n",
       "      <th>0</th>\n",
       "      <td>NaN</td>\n",
       "      <td>NaN</td>\n",
       "      <td>NaN</td>\n",
       "      <td>NaN</td>\n",
       "      <td>NaN</td>\n",
       "      <td>Kvalitetskontrollerade historiska data (utom d...</td>\n",
       "    </tr>\n",
       "    <tr>\n",
       "      <th>1</th>\n",
       "      <td>NaN</td>\n",
       "      <td>NaN</td>\n",
       "      <td>NaN</td>\n",
       "      <td>NaN</td>\n",
       "      <td>NaN</td>\n",
       "      <td>Tidsperiod (fr.o.m.) = 2014-04-01 00:00:00 (UTC)</td>\n",
       "    </tr>\n",
       "    <tr>\n",
       "      <th>2</th>\n",
       "      <td>NaN</td>\n",
       "      <td>NaN</td>\n",
       "      <td>NaN</td>\n",
       "      <td>NaN</td>\n",
       "      <td>NaN</td>\n",
       "      <td>Tidsperiod (t.o.m.) = 2014-04-30 23:59:59 (UTC)</td>\n",
       "    </tr>\n",
       "    <tr>\n",
       "      <th>3</th>\n",
       "      <td>NaN</td>\n",
       "      <td>NaN</td>\n",
       "      <td>NaN</td>\n",
       "      <td>NaN</td>\n",
       "      <td>NaN</td>\n",
       "      <td>Samplingstid = 1 timme</td>\n",
       "    </tr>\n",
       "    <tr>\n",
       "      <th>4</th>\n",
       "      <td>NaN</td>\n",
       "      <td>NaN</td>\n",
       "      <td>NaN</td>\n",
       "      <td>NaN</td>\n",
       "      <td>NaN</td>\n",
       "      <td>Kvalitetskoderna:</td>\n",
       "    </tr>\n",
       "  </tbody>\n",
       "</table>\n",
       "</div>"
      ],
      "text/plain": [
       "   Datum  Tid (UTC)  Nederbördsmängd  Kvalitet  Unnamed: 4  \\\n",
       "0    NaN        NaN              NaN       NaN         NaN   \n",
       "1    NaN        NaN              NaN       NaN         NaN   \n",
       "2    NaN        NaN              NaN       NaN         NaN   \n",
       "3    NaN        NaN              NaN       NaN         NaN   \n",
       "4    NaN        NaN              NaN       NaN         NaN   \n",
       "\n",
       "                                        Tidsutsnitt:  \n",
       "0  Kvalitetskontrollerade historiska data (utom d...  \n",
       "1   Tidsperiod (fr.o.m.) = 2014-04-01 00:00:00 (UTC)  \n",
       "2    Tidsperiod (t.o.m.) = 2014-04-30 23:59:59 (UTC)  \n",
       "3                             Samplingstid = 1 timme  \n",
       "4                                  Kvalitetskoderna:  "
      ]
     },
     "execution_count": 139,
     "metadata": {},
     "output_type": "execute_result"
    }
   ],
   "source": [
    "downfall_mm_h.head()"
   ]
  },
  {
   "cell_type": "code",
   "execution_count": 140,
   "metadata": {},
   "outputs": [
    {
     "data": {
      "text/plain": [
       "Datum              float64\n",
       "Tid (UTC)          float64\n",
       "Nederbördsmängd    float64\n",
       "Kvalitet           float64\n",
       "Unnamed: 4         float64\n",
       "Tidsutsnitt:        object\n",
       "dtype: object"
      ]
     },
     "execution_count": 140,
     "metadata": {},
     "output_type": "execute_result"
    }
   ],
   "source": [
    "downfall_mm_h.dtypes"
   ]
  },
  {
   "cell_type": "code",
   "execution_count": 141,
   "metadata": {},
   "outputs": [
    {
     "data": {
      "text/plain": [
       "(13, 6)"
      ]
     },
     "execution_count": 141,
     "metadata": {},
     "output_type": "execute_result"
    }
   ],
   "source": [
    "downfall_mm_h.shape"
   ]
  },
  {
   "cell_type": "code",
   "execution_count": 142,
   "metadata": {},
   "outputs": [
    {
     "data": {
      "text/plain": [
       "Series([], Name: Nederbördsmängd, dtype: int64)"
      ]
     },
     "execution_count": 142,
     "metadata": {},
     "output_type": "execute_result"
    }
   ],
   "source": [
    "downfall_mm_h.Nederbördsmängd.value_counts()"
   ]
  },
  {
   "attachments": {},
   "cell_type": "markdown",
   "metadata": {},
   "source": [
    "Conclusion --> Empty dataset\n",
    "--> Initiate download and additional analysis of the same dataset type, but from the close by laying station: \"Stockholm-Observatoriekullen A\""
   ]
  },
  {
   "cell_type": "code",
   "execution_count": 143,
   "metadata": {},
   "outputs": [
    {
     "data": {
      "text/html": [
       "<div>\n",
       "<style scoped>\n",
       "    .dataframe tbody tr th:only-of-type {\n",
       "        vertical-align: middle;\n",
       "    }\n",
       "\n",
       "    .dataframe tbody tr th {\n",
       "        vertical-align: top;\n",
       "    }\n",
       "\n",
       "    .dataframe thead th {\n",
       "        text-align: right;\n",
       "    }\n",
       "</style>\n",
       "<table border=\"1\" class=\"dataframe\">\n",
       "  <thead>\n",
       "    <tr style=\"text-align: right;\">\n",
       "      <th></th>\n",
       "      <th>Datum</th>\n",
       "      <th>Tid (UTC)</th>\n",
       "      <th>Nederbördsmängd</th>\n",
       "      <th>Kvalitet</th>\n",
       "      <th>Unnamed: 4</th>\n",
       "      <th>Tidsutsnitt:</th>\n",
       "    </tr>\n",
       "  </thead>\n",
       "  <tbody>\n",
       "    <tr>\n",
       "      <th>0</th>\n",
       "      <td>1996-10-01</td>\n",
       "      <td>00:00:00</td>\n",
       "      <td>0.0</td>\n",
       "      <td>Y</td>\n",
       "      <td>NaN</td>\n",
       "      <td>Kvalitetskontrollerade historiska data (utom d...</td>\n",
       "    </tr>\n",
       "    <tr>\n",
       "      <th>1</th>\n",
       "      <td>1996-10-01</td>\n",
       "      <td>01:00:00</td>\n",
       "      <td>0.0</td>\n",
       "      <td>Y</td>\n",
       "      <td>NaN</td>\n",
       "      <td>Tidsperiod (fr.o.m.) = 1996-10-01 00:00:00 (UTC)</td>\n",
       "    </tr>\n",
       "    <tr>\n",
       "      <th>2</th>\n",
       "      <td>1996-10-01</td>\n",
       "      <td>03:00:00</td>\n",
       "      <td>0.0</td>\n",
       "      <td>Y</td>\n",
       "      <td>NaN</td>\n",
       "      <td>Tidsperiod (t.o.m.) = 1997-10-31 23:59:59 (UTC)</td>\n",
       "    </tr>\n",
       "    <tr>\n",
       "      <th>3</th>\n",
       "      <td>1996-10-01</td>\n",
       "      <td>04:00:00</td>\n",
       "      <td>0.0</td>\n",
       "      <td>Y</td>\n",
       "      <td>NaN</td>\n",
       "      <td>Samplingstid = 1 timme</td>\n",
       "    </tr>\n",
       "    <tr>\n",
       "      <th>4</th>\n",
       "      <td>1996-10-01</td>\n",
       "      <td>05:00:00</td>\n",
       "      <td>0.0</td>\n",
       "      <td>Y</td>\n",
       "      <td>NaN</td>\n",
       "      <td>Kvalitetskoderna:</td>\n",
       "    </tr>\n",
       "  </tbody>\n",
       "</table>\n",
       "</div>"
      ],
      "text/plain": [
       "        Datum Tid (UTC)  Nederbördsmängd Kvalitet  Unnamed: 4  \\\n",
       "0  1996-10-01  00:00:00              0.0        Y         NaN   \n",
       "1  1996-10-01  01:00:00              0.0        Y         NaN   \n",
       "2  1996-10-01  03:00:00              0.0        Y         NaN   \n",
       "3  1996-10-01  04:00:00              0.0        Y         NaN   \n",
       "4  1996-10-01  05:00:00              0.0        Y         NaN   \n",
       "\n",
       "                                        Tidsutsnitt:  \n",
       "0  Kvalitetskontrollerade historiska data (utom d...  \n",
       "1   Tidsperiod (fr.o.m.) = 1996-10-01 00:00:00 (UTC)  \n",
       "2    Tidsperiod (t.o.m.) = 1997-10-31 23:59:59 (UTC)  \n",
       "3                             Samplingstid = 1 timme  \n",
       "4                                  Kvalitetskoderna:  "
      ]
     },
     "execution_count": 143,
     "metadata": {},
     "output_type": "execute_result"
    }
   ],
   "source": [
    "downfall_mm_h_A = pd.read_csv('MetroData/smhi_nederbördsmängd_h_kulleA.csv')\n",
    "downfall_mm_h_A.head()"
   ]
  },
  {
   "cell_type": "code",
   "execution_count": 144,
   "metadata": {},
   "outputs": [
    {
     "name": "stdout",
     "output_type": "stream",
     "text": [
      "Newst value: 1997-10-28, oldest value: 1996-10-01\n"
     ]
    }
   ],
   "source": [
    "# Nyaste datapunkten\n",
    "Newst = downfall_mm_h_A.Datum.max()\n",
    "\n",
    "# äldsta datapunkten\n",
    "Oldest = downfall_mm_h_A.Datum.min()\n",
    "\n",
    "print(f'Newst value: {Newst}, oldest value: {Oldest}')"
   ]
  },
  {
   "attachments": {},
   "cell_type": "markdown",
   "metadata": {},
   "source": [
    "nyaste datapunk äldre än övriga dataset, antyder att denna station ev. är nerlagd. "
   ]
  },
  {
   "cell_type": "code",
   "execution_count": 145,
   "metadata": {},
   "outputs": [
    {
     "data": {
      "text/plain": [
       "0.0    8731\n",
       "0.2     112\n",
       "0.3      90\n",
       "0.4      48\n",
       "0.5      34\n",
       "0.6      27\n",
       "0.8      20\n",
       "0.7      19\n",
       "1.1      15\n",
       "0.9      12\n",
       "1.4      10\n",
       "1.3      10\n",
       "1.0       9\n",
       "1.6       8\n",
       "2.0       8\n",
       "2.2       7\n",
       "2.1       5\n",
       "2.4       5\n",
       "1.2       4\n",
       "1.7       4\n",
       "3.8       4\n",
       "1.5       3\n",
       "5.3       3\n",
       "2.9       3\n",
       "1.8       3\n",
       "4.0       3\n",
       "3.3       3\n",
       "2.8       2\n",
       "2.5       2\n",
       "2.6       2\n",
       "2.7       2\n",
       "1.9       2\n",
       "2.3       2\n",
       "3.0       2\n",
       "7.3       1\n",
       "5.0       1\n",
       "3.2       1\n",
       "3.4       1\n",
       "4.5       1\n",
       "7.4       1\n",
       "5.1       1\n",
       "4.8       1\n",
       "3.7       1\n",
       "4.6       1\n",
       "Name: Nederbördsmängd, dtype: int64"
      ]
     },
     "execution_count": 145,
     "metadata": {},
     "output_type": "execute_result"
    }
   ],
   "source": [
    "downfall_mm_h_A.Nederbördsmängd.value_counts()"
   ]
  },
  {
   "attachments": {},
   "cell_type": "markdown",
   "metadata": {},
   "source": [
    "--> oftast ingen nederbörd uppmätt"
   ]
  },
  {
   "cell_type": "code",
   "execution_count": 146,
   "metadata": {},
   "outputs": [
    {
     "data": {
      "text/plain": [
       "Y    9224\n",
       "Name: Kvalitet, dtype: int64"
      ]
     },
     "execution_count": 146,
     "metadata": {},
     "output_type": "execute_result"
    }
   ],
   "source": [
    "downfall_mm_h_A.Kvalitet.value_counts()"
   ]
  },
  {
   "attachments": {},
   "cell_type": "markdown",
   "metadata": {},
   "source": [
    "--> Samtliga mätningar klassade som \"Gul (Y) = Misstänkta eller aggregerade värden. Grovt kontrollerade arkivdata och okontrollerade realtidsdata (senaste 2 tim).\"\n",
    "--> detta tillsammans med att perioden inte överlappar med nederbördsTyp datat gör detta till ett icket idealt dataset att använda för modellen."
   ]
  },
  {
   "attachments": {},
   "cell_type": "markdown",
   "metadata": {},
   "source": [
    "### Downfall Type 12h\n",
    "Investigate the dataframe's head"
   ]
  },
  {
   "cell_type": "code",
   "execution_count": 147,
   "metadata": {},
   "outputs": [
    {
     "data": {
      "text/html": [
       "<div>\n",
       "<style scoped>\n",
       "    .dataframe tbody tr th:only-of-type {\n",
       "        vertical-align: middle;\n",
       "    }\n",
       "\n",
       "    .dataframe tbody tr th {\n",
       "        vertical-align: top;\n",
       "    }\n",
       "\n",
       "    .dataframe thead th {\n",
       "        text-align: right;\n",
       "    }\n",
       "</style>\n",
       "<table border=\"1\" class=\"dataframe\">\n",
       "  <thead>\n",
       "    <tr style=\"text-align: right;\">\n",
       "      <th></th>\n",
       "      <th>Datum</th>\n",
       "      <th>Tid (UTC)</th>\n",
       "      <th>Nederbörd</th>\n",
       "      <th>Kvalitet</th>\n",
       "      <th>Unnamed: 4</th>\n",
       "      <th>Tidsutsnitt:</th>\n",
       "    </tr>\n",
       "  </thead>\n",
       "  <tbody>\n",
       "    <tr>\n",
       "      <th>0</th>\n",
       "      <td>2019-10-07</td>\n",
       "      <td>18:00:00</td>\n",
       "      <td>regn</td>\n",
       "      <td>Y</td>\n",
       "      <td>NaN</td>\n",
       "      <td>Kvalitetskontrollerade historiska data (utom d...</td>\n",
       "    </tr>\n",
       "    <tr>\n",
       "      <th>1</th>\n",
       "      <td>2019-10-12</td>\n",
       "      <td>06:00:00</td>\n",
       "      <td>regn</td>\n",
       "      <td>Y</td>\n",
       "      <td>NaN</td>\n",
       "      <td>Tidsperiod (fr.o.m.) = 2019-10-01 00:00:00 (UTC)</td>\n",
       "    </tr>\n",
       "    <tr>\n",
       "      <th>2</th>\n",
       "      <td>2019-10-14</td>\n",
       "      <td>06:00:00</td>\n",
       "      <td>regn</td>\n",
       "      <td>Y</td>\n",
       "      <td>NaN</td>\n",
       "      <td>Tidsperiod (t.o.m.) = 2023-01-01 06:00:00 (UTC)</td>\n",
       "    </tr>\n",
       "    <tr>\n",
       "      <th>3</th>\n",
       "      <td>2019-10-14</td>\n",
       "      <td>18:00:00</td>\n",
       "      <td>regn</td>\n",
       "      <td>Y</td>\n",
       "      <td>NaN</td>\n",
       "      <td>Samplingstid = 12 timmar</td>\n",
       "    </tr>\n",
       "    <tr>\n",
       "      <th>4</th>\n",
       "      <td>2019-10-17</td>\n",
       "      <td>06:00:00</td>\n",
       "      <td>regn</td>\n",
       "      <td>Y</td>\n",
       "      <td>NaN</td>\n",
       "      <td>Kvalitetskoderna:</td>\n",
       "    </tr>\n",
       "  </tbody>\n",
       "</table>\n",
       "</div>"
      ],
      "text/plain": [
       "        Datum Tid (UTC) Nederbörd Kvalitet  Unnamed: 4  \\\n",
       "0  2019-10-07  18:00:00      regn        Y         NaN   \n",
       "1  2019-10-12  06:00:00      regn        Y         NaN   \n",
       "2  2019-10-14  06:00:00      regn        Y         NaN   \n",
       "3  2019-10-14  18:00:00      regn        Y         NaN   \n",
       "4  2019-10-17  06:00:00      regn        Y         NaN   \n",
       "\n",
       "                                        Tidsutsnitt:  \n",
       "0  Kvalitetskontrollerade historiska data (utom d...  \n",
       "1   Tidsperiod (fr.o.m.) = 2019-10-01 00:00:00 (UTC)  \n",
       "2    Tidsperiod (t.o.m.) = 2023-01-01 06:00:00 (UTC)  \n",
       "3                           Samplingstid = 12 timmar  \n",
       "4                                  Kvalitetskoderna:  "
      ]
     },
     "execution_count": 147,
     "metadata": {},
     "output_type": "execute_result"
    }
   ],
   "source": [
    "downfall_type_12h.head()"
   ]
  },
  {
   "cell_type": "code",
   "execution_count": 148,
   "metadata": {},
   "outputs": [
    {
     "data": {
      "text/plain": [
       "Datum            object\n",
       "Tid (UTC)        object\n",
       "Nederbörd        object\n",
       "Kvalitet         object\n",
       "Unnamed: 4      float64\n",
       "Tidsutsnitt:     object\n",
       "dtype: object"
      ]
     },
     "execution_count": 148,
     "metadata": {},
     "output_type": "execute_result"
    }
   ],
   "source": [
    "downfall_type_12h.dtypes"
   ]
  },
  {
   "cell_type": "code",
   "execution_count": 159,
   "metadata": {},
   "outputs": [
    {
     "data": {
      "text/plain": [
       "Y    735\n",
       "Name: Kvalitet, dtype: int64"
      ]
     },
     "execution_count": 159,
     "metadata": {},
     "output_type": "execute_result"
    }
   ],
   "source": [
    "downfall_type_12h.Kvalitet.value_counts()"
   ]
  },
  {
   "attachments": {},
   "cell_type": "markdown",
   "metadata": {},
   "source": [
    "--> Samtliga mätningar av sämre kvalitet, kan vara relaterat till att klassning av olika typer av snö/regn inte är nummeriskt och på samma sätt inte lika mätbart som t.ex. tempertur eller tid."
   ]
  },
  {
   "cell_type": "code",
   "execution_count": 149,
   "metadata": {},
   "outputs": [
    {
     "data": {
      "text/plain": [
       "regn                       469\n",
       "duggregn                    93\n",
       "snowfall                    77\n",
       "regnskurar                  46\n",
       "snöblandat regn             31\n",
       "snöbyar                     11\n",
       "snöhagel                     3\n",
       "byar av snöblandat regn      2\n",
       "småhagel                     2\n",
       "kornsnö                      1\n",
       "Name: Nederbörd, dtype: int64"
      ]
     },
     "execution_count": 149,
     "metadata": {},
     "output_type": "execute_result"
    }
   ],
   "source": [
    "downfall_type_12h.Nederbörd.value_counts()"
   ]
  },
  {
   "attachments": {},
   "cell_type": "markdown",
   "metadata": {},
   "source": [
    "--> Övervägande lablede data för olika typer av regn \n"
   ]
  },
  {
   "attachments": {},
   "cell_type": "markdown",
   "metadata": {},
   "source": [
    "Inventory of data set size"
   ]
  },
  {
   "cell_type": "code",
   "execution_count": 150,
   "metadata": {},
   "outputs": [
    {
     "data": {
      "text/plain": [
       "(735, 6)"
      ]
     },
     "execution_count": 150,
     "metadata": {},
     "output_type": "execute_result"
    }
   ],
   "source": [
    "downfall_type_12h.shape"
   ]
  },
  {
   "cell_type": "code",
   "execution_count": 151,
   "metadata": {},
   "outputs": [
    {
     "name": "stdout",
     "output_type": "stream",
     "text": [
      "Newst value: 2022-12-31, oldest value: 2019-10-07\n"
     ]
    }
   ],
   "source": [
    "# Nyaste datapunkten\n",
    "Newst = downfall_type_12h.Datum.max()\n",
    "\n",
    "# äldsta datapunkten\n",
    "Oldest = downfall_type_12h.Datum.min()\n",
    "\n",
    "print(f'Newst value: {Newst}, oldest value: {Oldest}')\n"
   ]
  },
  {
   "attachments": {},
   "cell_type": "markdown",
   "metadata": {},
   "source": [
    "--> Relativt litet dataset jämfört med övriga. Kan kompleteras med data från de senaste tre månaderna, då dessa är vinntermånader kan de förhoppningvis innehålla mer snödata att använda för träningen. "
   ]
  },
  {
   "cell_type": "code",
   "execution_count": 152,
   "metadata": {},
   "outputs": [],
   "source": [
    "downfall_type_12h_4months = pd.read_csv('MetroData/smhi_nederbördstyp_12h_last4months.csv')"
   ]
  },
  {
   "cell_type": "code",
   "execution_count": 153,
   "metadata": {},
   "outputs": [
    {
     "data": {
      "text/plain": [
       "(100, 6)"
      ]
     },
     "execution_count": 153,
     "metadata": {},
     "output_type": "execute_result"
    }
   ],
   "source": [
    "downfall_type_12h_4months.shape"
   ]
  },
  {
   "cell_type": "code",
   "execution_count": 154,
   "metadata": {},
   "outputs": [
    {
     "data": {
      "text/plain": [
       "regn               40\n",
       "snowfall           30\n",
       "snöblandat regn    16\n",
       "duggregn            7\n",
       "snöbyar             3\n",
       "regnskurar          2\n",
       "kornsnö             1\n",
       "snöhagel            1\n",
       "Name: Nederbörd, dtype: int64"
      ]
     },
     "execution_count": 154,
     "metadata": {},
     "output_type": "execute_result"
    }
   ],
   "source": [
    "downfall_type_12h_4months.Nederbörd.value_counts()"
   ]
  },
  {
   "attachments": {},
   "cell_type": "markdown",
   "metadata": {},
   "source": [
    "---> Mer jämn fördelning av regn vs snö, stärker den vilda \"tesen\" att snö är mest förekommande under vintermånader."
   ]
  },
  {
   "cell_type": "code",
   "execution_count": 155,
   "metadata": {},
   "outputs": [
    {
     "name": "stdout",
     "output_type": "stream",
     "text": [
      "Newst value: 2023-04-14, oldest value: 2022-12-09\n"
     ]
    }
   ],
   "source": [
    "# Nyaste datapunkten\n",
    "Newst = downfall_type_12h_4months.Datum.max()\n",
    "\n",
    "# äldsta datapunkten\n",
    "Oldest = downfall_type_12h_4months.Datum.min()\n",
    "\n",
    "print(f'Newst value: {Newst}, oldest value: {Oldest}')\n"
   ]
  },
  {
   "attachments": {},
   "cell_type": "markdown",
   "metadata": {},
   "source": [
    "--> Visst överlapp mellan dataseten downfall_type_12h och downfall_type_12h_4months (ca 1 månad), dubletter behöver tas bort när dataseten senare slås ihop."
   ]
  },
  {
   "cell_type": "code",
   "execution_count": 160,
   "metadata": {},
   "outputs": [
    {
     "data": {
      "text/plain": [
       "Y    100\n",
       "Name: Kvalitet, dtype: int64"
      ]
     },
     "execution_count": 160,
     "metadata": {},
     "output_type": "execute_result"
    }
   ],
   "source": [
    "downfall_type_12h_4months.Kvalitet.value_counts()"
   ]
  },
  {
   "attachments": {},
   "cell_type": "markdown",
   "metadata": {},
   "source": [
    "## Humidity Analysis"
   ]
  },
  {
   "attachments": {},
   "cell_type": "markdown",
   "metadata": {},
   "source": [
    "### Humidity h\n",
    "Investigate the dataframe's head"
   ]
  },
  {
   "cell_type": "code",
   "execution_count": 156,
   "metadata": {},
   "outputs": [
    {
     "data": {
      "text/html": [
       "<div>\n",
       "<style scoped>\n",
       "    .dataframe tbody tr th:only-of-type {\n",
       "        vertical-align: middle;\n",
       "    }\n",
       "\n",
       "    .dataframe tbody tr th {\n",
       "        vertical-align: top;\n",
       "    }\n",
       "\n",
       "    .dataframe thead th {\n",
       "        text-align: right;\n",
       "    }\n",
       "</style>\n",
       "<table border=\"1\" class=\"dataframe\">\n",
       "  <thead>\n",
       "    <tr style=\"text-align: right;\">\n",
       "      <th></th>\n",
       "      <th>Datum</th>\n",
       "      <th>Tid (UTC)</th>\n",
       "      <th>Relativ Luftfuktighet</th>\n",
       "      <th>Kvalitet</th>\n",
       "      <th>Unnamed: 4</th>\n",
       "      <th>Tidsutsnitt:</th>\n",
       "    </tr>\n",
       "  </thead>\n",
       "  <tbody>\n",
       "    <tr>\n",
       "      <th>0</th>\n",
       "      <td>1961-01-01</td>\n",
       "      <td>06:00:00</td>\n",
       "      <td>93</td>\n",
       "      <td>Y</td>\n",
       "      <td>NaN</td>\n",
       "      <td>Kvalitetskontrollerade historiska data (utom d...</td>\n",
       "    </tr>\n",
       "    <tr>\n",
       "      <th>1</th>\n",
       "      <td>1961-01-30</td>\n",
       "      <td>06:00:00</td>\n",
       "      <td>89</td>\n",
       "      <td>Y</td>\n",
       "      <td>NaN</td>\n",
       "      <td>Tidsperiod (fr.o.m.) = 1961-01-01 00:00:00 (UTC)</td>\n",
       "    </tr>\n",
       "    <tr>\n",
       "      <th>2</th>\n",
       "      <td>1961-01-31</td>\n",
       "      <td>06:00:00</td>\n",
       "      <td>92</td>\n",
       "      <td>Y</td>\n",
       "      <td>NaN</td>\n",
       "      <td>Tidsperiod (t.o.m.) = 2019-10-31 23:59:59 (UTC)</td>\n",
       "    </tr>\n",
       "    <tr>\n",
       "      <th>3</th>\n",
       "      <td>1961-02-01</td>\n",
       "      <td>06:00:00</td>\n",
       "      <td>81</td>\n",
       "      <td>Y</td>\n",
       "      <td>NaN</td>\n",
       "      <td>Samplingstid = Ej angivet</td>\n",
       "    </tr>\n",
       "    <tr>\n",
       "      <th>4</th>\n",
       "      <td>1961-02-02</td>\n",
       "      <td>06:00:00</td>\n",
       "      <td>91</td>\n",
       "      <td>Y</td>\n",
       "      <td>NaN</td>\n",
       "      <td>Kvalitetskoderna:</td>\n",
       "    </tr>\n",
       "  </tbody>\n",
       "</table>\n",
       "</div>"
      ],
      "text/plain": [
       "        Datum Tid (UTC)  Relativ Luftfuktighet Kvalitet  Unnamed: 4  \\\n",
       "0  1961-01-01  06:00:00                     93        Y         NaN   \n",
       "1  1961-01-30  06:00:00                     89        Y         NaN   \n",
       "2  1961-01-31  06:00:00                     92        Y         NaN   \n",
       "3  1961-02-01  06:00:00                     81        Y         NaN   \n",
       "4  1961-02-02  06:00:00                     91        Y         NaN   \n",
       "\n",
       "                                        Tidsutsnitt:  \n",
       "0  Kvalitetskontrollerade historiska data (utom d...  \n",
       "1   Tidsperiod (fr.o.m.) = 1961-01-01 00:00:00 (UTC)  \n",
       "2    Tidsperiod (t.o.m.) = 2019-10-31 23:59:59 (UTC)  \n",
       "3                          Samplingstid = Ej angivet  \n",
       "4                                  Kvalitetskoderna:  "
      ]
     },
     "execution_count": 156,
     "metadata": {},
     "output_type": "execute_result"
    }
   ],
   "source": [
    "humidity_h.head()"
   ]
  },
  {
   "cell_type": "code",
   "execution_count": 157,
   "metadata": {},
   "outputs": [
    {
     "data": {
      "text/plain": [
       "Datum                     object\n",
       "Tid (UTC)                 object\n",
       "Relativ Luftfuktighet      int64\n",
       "Kvalitet                  object\n",
       "Unnamed: 4               float64\n",
       "Tidsutsnitt:              object\n",
       "dtype: object"
      ]
     },
     "execution_count": 157,
     "metadata": {},
     "output_type": "execute_result"
    }
   ],
   "source": [
    "humidity_h.dtypes"
   ]
  },
  {
   "cell_type": "code",
   "execution_count": 162,
   "metadata": {},
   "outputs": [
    {
     "data": {
      "text/plain": [
       "Relativ Luftfuktighet\n",
       "92    234\n",
       "90    193\n",
       "91    188\n",
       "86    181\n",
       "89    174\n",
       "     ... \n",
       "21      1\n",
       "20      1\n",
       "19      1\n",
       "16      1\n",
       "14      1\n",
       "Length: 84, dtype: int64"
      ]
     },
     "execution_count": 162,
     "metadata": {},
     "output_type": "execute_result"
    }
   ],
   "source": [
    "humidity_h.value_counts('Relativ Luftfuktighet')"
   ]
  },
  {
   "cell_type": "code",
   "execution_count": 163,
   "metadata": {},
   "outputs": [
    {
     "data": {
      "text/plain": [
       "G    5684\n",
       "Y    1691\n",
       "Name: Kvalitet, dtype: int64"
      ]
     },
     "execution_count": 163,
     "metadata": {},
     "output_type": "execute_result"
    }
   ],
   "source": [
    "humidity_h.Kvalitet.value_counts()"
   ]
  }
 ],
 "metadata": {
  "kernelspec": {
   "display_name": "Python 3",
   "language": "python",
   "name": "python3"
  },
  "language_info": {
   "codemirror_mode": {
    "name": "ipython",
    "version": 3
   },
   "file_extension": ".py",
   "mimetype": "text/x-python",
   "name": "python",
   "nbconvert_exporter": "python",
   "pygments_lexer": "ipython3",
   "version": "3.10.4"
  },
  "orig_nbformat": 4
 },
 "nbformat": 4,
 "nbformat_minor": 2
}
